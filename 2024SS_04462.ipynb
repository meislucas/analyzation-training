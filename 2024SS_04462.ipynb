{
 "cells": [
  {
   "cell_type": "markdown",
   "id": "54185204-9f4f-4350-9863-659dc07a283b",
   "metadata": {},
   "source": [
    "# <center> Scientific Programming in Python\n",
    "\n",
    "## <center>SciPro_ID: 2024SS_04462<br>Bonn-Rhein-Sieg University of Applied Sciences<br>Sankt Augustin, Germany"
   ]
  },
  {
   "cell_type": "code",
   "execution_count": 8,
   "id": "9b0ae92d-f661-4425-b28d-44c93e74a113",
   "metadata": {},
   "outputs": [],
   "source": [
    "import pandas as pd\n",
    "import numpy as np\n",
    "import matplotlib.pyplot as plt"
   ]
  },
  {
   "cell_type": "markdown",
   "id": "6b047493-f530-4252-b043-2084cdef4c80",
   "metadata": {},
   "source": [
    "## <u>Inserting and cleaning data"
   ]
  },
  {
   "cell_type": "code",
   "execution_count": 2,
   "id": "4af0dfcb-629f-45a3-a88d-81850bf0fbf3",
   "metadata": {
    "scrolled": true
   },
   "outputs": [
    {
     "data": {
      "text/html": [
       "<div>\n",
       "<style scoped>\n",
       "    .dataframe tbody tr th:only-of-type {\n",
       "        vertical-align: middle;\n",
       "    }\n",
       "\n",
       "    .dataframe tbody tr th {\n",
       "        vertical-align: top;\n",
       "    }\n",
       "\n",
       "    .dataframe thead th {\n",
       "        text-align: right;\n",
       "    }\n",
       "</style>\n",
       "<table border=\"1\" class=\"dataframe\">\n",
       "  <thead>\n",
       "    <tr style=\"text-align: right;\">\n",
       "      <th></th>\n",
       "      <th>Name</th>\n",
       "      <th>Author</th>\n",
       "      <th>User Rating</th>\n",
       "      <th>Reviews</th>\n",
       "      <th>Price</th>\n",
       "      <th>Year</th>\n",
       "      <th>Genre</th>\n",
       "    </tr>\n",
       "  </thead>\n",
       "  <tbody>\n",
       "    <tr>\n",
       "      <th>0</th>\n",
       "      <td>10-Day Green Smoothie Cleanse</td>\n",
       "      <td>JJ Smith</td>\n",
       "      <td>4.7</td>\n",
       "      <td>17350</td>\n",
       "      <td>8</td>\n",
       "      <td>2016</td>\n",
       "      <td>Non Fiction</td>\n",
       "    </tr>\n",
       "    <tr>\n",
       "      <th>1</th>\n",
       "      <td>11/22/63: A Novel</td>\n",
       "      <td>Stephen King</td>\n",
       "      <td>4.6</td>\n",
       "      <td>2052</td>\n",
       "      <td>22</td>\n",
       "      <td>2011</td>\n",
       "      <td>Fiction</td>\n",
       "    </tr>\n",
       "    <tr>\n",
       "      <th>2</th>\n",
       "      <td>12 Rules for Life: An Antidote to Chaos</td>\n",
       "      <td>Jordan B. Peterson</td>\n",
       "      <td>4.7</td>\n",
       "      <td>18979</td>\n",
       "      <td>15</td>\n",
       "      <td>2018</td>\n",
       "      <td>Non Fiction</td>\n",
       "    </tr>\n",
       "    <tr>\n",
       "      <th>3</th>\n",
       "      <td>1984 (Signet Classics)</td>\n",
       "      <td>George Orwell</td>\n",
       "      <td>4.7</td>\n",
       "      <td>21424</td>\n",
       "      <td>6</td>\n",
       "      <td>2017</td>\n",
       "      <td>Fiction</td>\n",
       "    </tr>\n",
       "    <tr>\n",
       "      <th>4</th>\n",
       "      <td>5,000 Awesome Facts (About Everything!) (Natio...</td>\n",
       "      <td>National Geographic Kids</td>\n",
       "      <td>4.8</td>\n",
       "      <td>7665</td>\n",
       "      <td>12</td>\n",
       "      <td>2019</td>\n",
       "      <td>Non Fiction</td>\n",
       "    </tr>\n",
       "    <tr>\n",
       "      <th>...</th>\n",
       "      <td>...</td>\n",
       "      <td>...</td>\n",
       "      <td>...</td>\n",
       "      <td>...</td>\n",
       "      <td>...</td>\n",
       "      <td>...</td>\n",
       "      <td>...</td>\n",
       "    </tr>\n",
       "    <tr>\n",
       "      <th>545</th>\n",
       "      <td>Wrecking Ball (Diary of a Wimpy Kid Book 14)</td>\n",
       "      <td>Jeff Kinney</td>\n",
       "      <td>4.9</td>\n",
       "      <td>9413</td>\n",
       "      <td>8</td>\n",
       "      <td>2019</td>\n",
       "      <td>Fiction</td>\n",
       "    </tr>\n",
       "    <tr>\n",
       "      <th>546</th>\n",
       "      <td>You Are a Badass: How to Stop Doubting Your Gr...</td>\n",
       "      <td>Jen Sincero</td>\n",
       "      <td>4.7</td>\n",
       "      <td>14331</td>\n",
       "      <td>8</td>\n",
       "      <td>2016</td>\n",
       "      <td>Non Fiction</td>\n",
       "    </tr>\n",
       "    <tr>\n",
       "      <th>547</th>\n",
       "      <td>You Are a Badass: How to Stop Doubting Your Gr...</td>\n",
       "      <td>Jen Sincero</td>\n",
       "      <td>4.7</td>\n",
       "      <td>14331</td>\n",
       "      <td>8</td>\n",
       "      <td>2017</td>\n",
       "      <td>Non Fiction</td>\n",
       "    </tr>\n",
       "    <tr>\n",
       "      <th>548</th>\n",
       "      <td>You Are a Badass: How to Stop Doubting Your Gr...</td>\n",
       "      <td>Jen Sincero</td>\n",
       "      <td>4.7</td>\n",
       "      <td>14331</td>\n",
       "      <td>8</td>\n",
       "      <td>2018</td>\n",
       "      <td>Non Fiction</td>\n",
       "    </tr>\n",
       "    <tr>\n",
       "      <th>549</th>\n",
       "      <td>You Are a Badass: How to Stop Doubting Your Gr...</td>\n",
       "      <td>Jen Sincero</td>\n",
       "      <td>4.7</td>\n",
       "      <td>14331</td>\n",
       "      <td>8</td>\n",
       "      <td>2019</td>\n",
       "      <td>Non Fiction</td>\n",
       "    </tr>\n",
       "  </tbody>\n",
       "</table>\n",
       "<p>550 rows × 7 columns</p>\n",
       "</div>"
      ],
      "text/plain": [
       "                                                  Name  \\\n",
       "0                        10-Day Green Smoothie Cleanse   \n",
       "1                                    11/22/63: A Novel   \n",
       "2              12 Rules for Life: An Antidote to Chaos   \n",
       "3                               1984 (Signet Classics)   \n",
       "4    5,000 Awesome Facts (About Everything!) (Natio...   \n",
       "..                                                 ...   \n",
       "545       Wrecking Ball (Diary of a Wimpy Kid Book 14)   \n",
       "546  You Are a Badass: How to Stop Doubting Your Gr...   \n",
       "547  You Are a Badass: How to Stop Doubting Your Gr...   \n",
       "548  You Are a Badass: How to Stop Doubting Your Gr...   \n",
       "549  You Are a Badass: How to Stop Doubting Your Gr...   \n",
       "\n",
       "                       Author  User Rating  Reviews  Price  Year        Genre  \n",
       "0                    JJ Smith          4.7    17350      8  2016  Non Fiction  \n",
       "1                Stephen King          4.6     2052     22  2011      Fiction  \n",
       "2          Jordan B. Peterson          4.7    18979     15  2018  Non Fiction  \n",
       "3               George Orwell          4.7    21424      6  2017      Fiction  \n",
       "4    National Geographic Kids          4.8     7665     12  2019  Non Fiction  \n",
       "..                        ...          ...      ...    ...   ...          ...  \n",
       "545               Jeff Kinney          4.9     9413      8  2019      Fiction  \n",
       "546               Jen Sincero          4.7    14331      8  2016  Non Fiction  \n",
       "547               Jen Sincero          4.7    14331      8  2017  Non Fiction  \n",
       "548               Jen Sincero          4.7    14331      8  2018  Non Fiction  \n",
       "549               Jen Sincero          4.7    14331      8  2019  Non Fiction  \n",
       "\n",
       "[550 rows x 7 columns]"
      ]
     },
     "execution_count": 2,
     "metadata": {},
     "output_type": "execute_result"
    }
   ],
   "source": [
    "books_df = pd.read_csv(\"bestsellers_by_categories.csv\")\n",
    "\n",
    "books_df"
   ]
  },
  {
   "cell_type": "markdown",
   "id": "a73ff0c3-2a89-4ec4-a1c3-4c15f77ab52b",
   "metadata": {},
   "source": [
    "Check for missing data from printing the sum."
   ]
  },
  {
   "cell_type": "code",
   "execution_count": 3,
   "id": "0bee14d2-1340-474e-bdf2-c2c840cde66c",
   "metadata": {},
   "outputs": [
    {
     "name": "stdout",
     "output_type": "stream",
     "text": [
      "Name           0\n",
      "Author         0\n",
      "User Rating    0\n",
      "Reviews        0\n",
      "Price          0\n",
      "Year           0\n",
      "Genre          0\n",
      "dtype: int64\n"
     ]
    }
   ],
   "source": [
    "print(books_df.isnull().sum())"
   ]
  },
  {
   "cell_type": "markdown",
   "id": "b972c4ae-9211-4ae0-b51e-b2bfad888588",
   "metadata": {},
   "source": [
    "Skimming the dataset we can see that the two authors George R. R. Martin and J. K. Rowling appear twice as their own Author. So we need to combine their datapoints so we only get one unified author name."
   ]
  },
  {
   "cell_type": "code",
   "execution_count": 4,
   "id": "cfd65ece-c27c-4058-bf23-7d168aaae590",
   "metadata": {},
   "outputs": [],
   "source": [
    "books_df = books_df.replace('George R. R. Martin', 'George R.R. Martin')\n",
    "books_df = books_df.replace('J. K. Rowling', 'J.K. Rowling')"
   ]
  },
  {
   "cell_type": "markdown",
   "id": "913d76f6-7453-48b8-a768-af5ad28f2f24",
   "metadata": {},
   "source": [
    "I will also drop the year column for the analysis now and remove the resulting duplicates. There are books in the dataset that are appearing more than once because they were sold in multiple years. Later we will pick the data back up for further exploration of the data."
   ]
  },
  {
   "cell_type": "code",
   "execution_count": 5,
   "id": "e7c40188-baf8-474d-b1a1-ddea12f33d2a",
   "metadata": {},
   "outputs": [],
   "source": [
    "abs_books_df = books_df.drop(columns=[\"Year\"])\n",
    "abs_books_df.drop_duplicates(inplace=True)\n"
   ]
  },
  {
   "cell_type": "markdown",
   "id": "0aadde60-96e3-4c9b-8e73-29eb3858dd29",
   "metadata": {},
   "source": [
    "## <u>Analyzing the Genre"
   ]
  },
  {
   "cell_type": "markdown",
   "id": "f6ce0b12-456b-4663-8ddd-a46349d250e8",
   "metadata": {},
   "source": [
    "Visualizing how many books are from the Fiction genre and how many are Non Fiction (relative and absolute)."
   ]
  },
  {
   "cell_type": "code",
   "execution_count": 10,
   "id": "a0d5141a-c5a7-46e8-8801-00a0ff00ce82",
   "metadata": {},
   "outputs": [
    {
     "data": {
      "image/png": "[encoded data removed]",
      "text/plain": [
       "<Figure size 500x500 with 1 Axes>"
      ]
     },
     "metadata": {},
     "output_type": "display_data"
    }
   ],
   "source": [
    "genre_counts = abs_books_df[\"Genre\"].value_counts()\n",
    "\n",
    "labels = genre_counts.index\n",
    "sizes = genre_counts.values\n",
    "\n",
    "#Pie Chart for relative view\n",
    "plt.figure(figsize=(5, 5))\n",
    "plt.pie(sizes, labels=labels, autopct=\"%1.1f%%\", startangle=90)\n",
    "plt.axis(\"equal\")  \n",
    "\n",
    "plt.title(\"Fiction vs Non-Fiction in relative numbers\")\n",
    "plt.show()"
   ]
  },
  {
   "cell_type": "code",
   "execution_count": 12,
   "id": "edb55da9-6304-4906-9662-2c38489b9ae9",
   "metadata": {},
   "outputs": [
    {
     "data": {
      "text/plain": [
       "Text(0.5, 1.0, 'Fiction vs Non-Fiction in absolute numbers')"
      ]
     },
     "execution_count": 12,
     "metadata": {},
     "output_type": "execute_result"
    },
    {
     "data": {
      "image/png": "[encoded data removed]",
      "text/plain": [
       "<Figure size 640x480 with 1 Axes>"
      ]
     },
     "metadata": {},
     "output_type": "display_data"
    }
   ],
   "source": [
    "#Histogramm for absolute view\n",
    "plt.bar(labels, sizes, color=[\"blue\",\"orange\"])\n",
    "plt.ylabel(\"Amount of books\")\n",
    "plt.title(\"Fiction vs Non-Fiction in absolute numbers\")"
   ]
  },
  {
   "cell_type": "markdown",
   "id": "00d683a2-244e-4bcd-ac82-70f31117565b",
   "metadata": {},
   "source": [
    "## <u>Most \"successful\" author"
   ]
  },
  {
   "cell_type": "markdown",
   "id": "d229df65-7590-4bd3-90c5-bfd5f053c1d6",
   "metadata": {},
   "source": [
    "Here I want to analyze the author with the most books written which got into to the Amazon Top 50 Bestselling Books List."
   ]
  },
  {
   "cell_type": "code",
   "execution_count": 24,
   "id": "e802f2b9-7772-4c26-848a-11c0c7350381",
   "metadata": {},
   "outputs": [
    {
     "data": {
      "text/plain": [
       "Author\n",
       "Jeff Kinney         12\n",
       "Rick Riordan        10\n",
       "J.K. Rowling         8\n",
       "Stephenie Meyer      7\n",
       "Dav Pilkey           6\n",
       "                    ..\n",
       "Jaycee Dugard        1\n",
       "Brian Kilmeade       1\n",
       "Jen Sincero          1\n",
       "Jennifer Smith       1\n",
       "Abraham Verghese     1\n",
       "Name: Author, Length: 246, dtype: int64"
      ]
     },
     "execution_count": 24,
     "metadata": {},
     "output_type": "execute_result"
    }
   ],
   "source": [
    "authors = abs_books_df.groupby(\"Author\")[\"Author\"].aggregate(\"count\")\n",
    "\n",
    "authors.sort_values(ascending=False)"
   ]
  },
  {
   "cell_type": "markdown",
   "id": "611e558c-ace4-4f93-8873-ad5bb7d3ecdb",
   "metadata": {},
   "source": [
    "Since there are a lot of authors who have only gotten one book in the Bestseller List we will only plot the 20 best performing ones."
   ]
  },
  {
   "cell_type": "code",
   "execution_count": 37,
   "id": "08992fcb-a596-42ac-add1-6cb7d7eb2e32",
   "metadata": {},
   "outputs": [
    {
     "data": {
      "text/plain": [
       "<BarContainer object of 20 artists>"
      ]
     },
     "execution_count": 37,
     "metadata": {},
     "output_type": "execute_result"
    },
    {
     "data": {
      "image/png": "[encoded data removed]",
      "text/plain": [
       "<Figure size 640x480 with 1 Axes>"
      ]
     },
     "metadata": {},
     "output_type": "display_data"
    }
   ],
   "source": [
    "top20 = authors.sort_values(ascending=False).head(20)\n",
    "\n",
    "size = top20.index \n",
    "labels = top20.values\n",
    "\n",
    "plt.title(\"Amount of books by Author\")\n",
    "plt.ylabel(\"Amount of books\")\n",
    "plt.xticks(rotation=90)\n",
    "plt.bar(size,labels, \n",
    "        color=[\"purple\",\"darkblue\",\"green\",\"red\",\"red\",\"red\",\n",
    "               \"orange\",\"orange\",\"orange\",\"magenta\",\"magenta\",\"magenta\",\n",
    "               \"black\",\"black\",\"black\",\"black\",\"black\",\"black\",\"black\",\"black\"])"
   ]
  },
  {
   "cell_type": "markdown",
   "id": "c8297f7f-36e3-406a-b80c-40ebfdbcd41b",
   "metadata": {},
   "source": [
    "## <u>Correlation of Price and Review"
   ]
  },
  {
   "cell_type": "markdown",
   "id": "2af8f586-d785-42ae-ac56-5ee8c97261d8",
   "metadata": {},
   "source": [
    "From here on we are going to use the original dataset (books_df) with all the years included. Now I want to analyze if the price of a book played a role in the books review. \n",
    "There is one issue that I wouldn't know how to resolve so the data is a bit wrong. There are some datapoints where the price is 0 and I honestly don't know what that is supposed to mean in this context."
   ]
  },
  {
   "cell_type": "markdown",
   "id": "5df61af5-e8c8-4a6a-b8e4-fcec304ba91b",
   "metadata": {},
   "source": [
    "First I want to calculate the mean, mode and median of the price of the books as well as the max and the min price."
   ]
  },
  {
   "cell_type": "code",
   "execution_count": 62,
   "id": "c0f71ae8-1561-4db1-9953-80429c45db42",
   "metadata": {},
   "outputs": [
    {
     "name": "stdout",
     "output_type": "stream",
     "text": [
      "Mean price: 13.1 \n",
      "Mode price: 8\n",
      "Median price: 11.0\n",
      "Max price: 105\n",
      "Min price: 0\n"
     ]
    }
   ],
   "source": [
    "price_mean = np.mean(books_df[\"Price\"]) \n",
    "price_median = np.median(books_df[\"Price\"])\n",
    "price_mode = books_df[\"Price\"].mode().iloc[0]\n",
    "price_max = np.max(books_df[\"Price\"])\n",
    "price_min = np.min(books_df[\"Price\"])\n",
    "\n",
    "print(f\"Mean price: {price_mean} \\nMode price: {price_mode}\\nMedian price: {price_median}\\nMax price: {price_max}\\nMin price: {price_min}\")"
   ]
  },
  {
   "cell_type": "code",
   "execution_count": 44,
   "id": "6f5b3af6-72f8-4b15-b7df-9cb9245e19a2",
   "metadata": {},
   "outputs": [
    {
     "data": {
      "text/plain": [
       "User Rating   -0.001729\n",
       "Reviews        1.000000\n",
       "Price         -0.109182\n",
       "Year           0.263560\n",
       "Name: Reviews, dtype: float64"
      ]
     },
     "execution_count": 44,
     "metadata": {},
     "output_type": "execute_result"
    }
   ],
   "source": [
    "books_df.corr(method=\"pearson\", numeric_only=True)[\"Reviews\"]"
   ]
  },
  {
   "cell_type": "markdown",
   "id": "d51ffc73-8497-47a2-a6ab-eaca39595294",
   "metadata": {},
   "source": [
    "Looking at the columns of the reviews we can see that with a higher rating the price sinks accordingly. Let's see by looking at the the best and worst books by rating."
   ]
  },
  {
   "cell_type": "code",
   "execution_count": 49,
   "id": "3831d079-391d-496b-9cc4-8987a86f1951",
   "metadata": {},
   "outputs": [
    {
     "data": {
      "text/plain": [
       "(                                                  Name                Author  \\\n",
       " 40            Brown Bear, Brown Bear, What Do You See?       Bill Martin Jr.   \n",
       " 41            Brown Bear, Brown Bear, What Do You See?       Bill Martin Jr.   \n",
       " 81   Dog Man and Cat Kid: From the Creator of Capta...            Dav Pilkey   \n",
       " 82   Dog Man: A Tale of Two Kitties: From the Creat...            Dav Pilkey   \n",
       " 83   Dog Man: Brawl of the Wild: From the Creator o...            Dav Pilkey   \n",
       " 84   Dog Man: Brawl of the Wild: From the Creator o...            Dav Pilkey   \n",
       " 85   Dog Man: Fetch-22: From the Creator of Captain...            Dav Pilkey   \n",
       " 86   Dog Man: For Whom the Ball Rolls: From the Cre...            Dav Pilkey   \n",
       " 87   Dog Man: Lord of the Fleas: From the Creator o...            Dav Pilkey   \n",
       " 146  Goodnight, Goodnight Construction Site (Hardco...  Sherri Duskey Rinker   \n",
       " \n",
       "      User Rating  Reviews  Price  Year    Genre  \n",
       " 40           4.9    14344      5  2017  Fiction  \n",
       " 41           4.9    14344      5  2019  Fiction  \n",
       " 81           4.9     5062      6  2018  Fiction  \n",
       " 82           4.9     4786      8  2017  Fiction  \n",
       " 83           4.9     7235      4  2018  Fiction  \n",
       " 84           4.9     7235      4  2019  Fiction  \n",
       " 85           4.9    12619      8  2019  Fiction  \n",
       " 86           4.9     9089      8  2019  Fiction  \n",
       " 87           4.9     5470      6  2018  Fiction  \n",
       " 146          4.9     7038      7  2012  Fiction  ,\n",
       "                                                   Name         Author  \\\n",
       " 353                                 The Casual Vacancy   J.K. Rowling   \n",
       " 132                         Go Set a Watchman: A Novel     Harper Lee   \n",
       " 106  Fifty Shades of Grey: Book One of the Fifty Sh...      E L James   \n",
       " 107  Fifty Shades of Grey: Book One of the Fifty Sh...      E L James   \n",
       " 22                                           Allegiant  Veronica Roth   \n",
       " 392  The Goldfinch: A Novel (Pulitzer Prize for Fic...    Donna Tartt   \n",
       " 393  The Goldfinch: A Novel (Pulitzer Prize for Fic...    Donna Tartt   \n",
       " 135                                          Gone Girl  Gillian Flynn   \n",
       " 136                                          Gone Girl  Gillian Flynn   \n",
       " 137                                          Gone Girl  Gillian Flynn   \n",
       " \n",
       "      User Rating  Reviews  Price  Year    Genre  \n",
       " 353          3.3     9372     12  2012  Fiction  \n",
       " 132          3.6    14982     19  2015  Fiction  \n",
       " 106          3.8    47265     14  2012  Fiction  \n",
       " 107          3.8    47265     14  2013  Fiction  \n",
       " 22           3.9     6310     13  2013  Fiction  \n",
       " 392          3.9    33844     20  2013  Fiction  \n",
       " 393          3.9    33844     20  2014  Fiction  \n",
       " 135          4.0    57271     10  2012  Fiction  \n",
       " 136          4.0    57271     10  2013  Fiction  \n",
       " 137          4.0    57271      9  2014  Fiction  )"
      ]
     },
     "execution_count": 49,
     "metadata": {},
     "output_type": "execute_result"
    }
   ],
   "source": [
    "top10_books = books_df.nlargest(10, \"User Rating\")\n",
    "worst10_books = books_df.nsmallest(10, \"User Rating\")\n",
    "\n",
    "top10_books, worst10_books"
   ]
  },
  {
   "cell_type": "code",
   "execution_count": 54,
   "id": "563cd8d9-59ba-41bd-afc4-ce6033ee2e75",
   "metadata": {},
   "outputs": [
    {
     "data": {
      "text/plain": [
       "(6.1, 14.1)"
      ]
     },
     "execution_count": 54,
     "metadata": {},
     "output_type": "execute_result"
    }
   ],
   "source": [
    "top10_price = top10_books[\"Price\"].mean()\n",
    "worst10_price = worst10_books[\"Price\"].mean()\n",
    "\n",
    "top10_price, worst10_price"
   ]
  },
  {
   "cell_type": "markdown",
   "id": "7508b190-ec9d-4ee2-92b8-1492e9396dfe",
   "metadata": {},
   "source": [
    "On average you can say that with a lower price the rating of the book is getting higher. My assumption is that people get influenced by the buying price of the book to some extent. This is also seen if you compare the prices of the lower rated books and the higher rated ones. The price of lower rated books is more often in the double digit area while the higher rated ones are closer to the mode of all prices or lower."
   ]
  },
  {
   "cell_type": "markdown",
   "id": "fce5c815-a1af-4049-a292-e7c69565c496",
   "metadata": {},
   "source": [
    "## <u>Reference "
   ]
  },
  {
   "cell_type": "markdown",
   "id": "f75e29d9-4790-48cd-9f6c-5e0b683af272",
   "metadata": {},
   "source": [
    "Sooter Saalu. (2020). Amazon Top 50 Bestselling Books 2009 - 2019 [Data set]. Kaggle. https://doi.org/10.34740/KAGGLE/DSV/1556647"
   ]
  }
 ],
 "metadata": {
  "kernelspec": {
   "display_name": "Python 3 (ipykernel)",
   "language": "python",
   "name": "python3"
  },
  "language_info": {
   "codemirror_mode": {
    "name": "ipython",
    "version": 3
   },
   "file_extension": ".py",
   "mimetype": "text/x-python",
   "name": "python",
   "nbconvert_exporter": "python",
   "pygments_lexer": "ipython3",
   "version": "3.12.2"
  }
 },
 "nbformat": 4,
 "nbformat_minor": 5
}
